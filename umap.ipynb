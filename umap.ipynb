{
 "cells": [
  {
   "cell_type": "code",
   "execution_count": 10,
   "metadata": {},
   "outputs": [],
   "source": [
    "import numpy as np\n",
    "import matplotlib.pyplot as plt\n",
    "import sklearn.manifold\n",
    "import sklearn.datasets\n",
    "import glob\n",
    "import sklearn.cluster\n",
    "import pandas as pd\n",
    "import os\n",
    "import umap"
   ]
  },
  {
   "cell_type": "code",
   "execution_count": 12,
   "metadata": {},
   "outputs": [
    {
     "name": "stdout",
     "output_type": "stream",
     "text": [
      "(7194,)\n",
      "['./Stocks/ardc.us.txt', './Stocks/epix.us.txt', './Stocks/eab.us.txt', './Stocks/batra.us.txt', './Stocks/inbk.us.txt', './Stocks/bgx.us.txt', './Stocks/strt.us.txt', './Stocks/manh.us.txt', './Stocks/atus.us.txt', './Stocks/icbk.us.txt', './Stocks/ftnt.us.txt', './Stocks/nhld.us.txt', './Stocks/dfs.us.txt', './Stocks/scvl.us.txt', './Stocks/ing.us.txt', './Stocks/hope.us.txt', './Stocks/jpt.us.txt', './Stocks/ocfc.us.txt', './Stocks/gsk.us.txt', './Stocks/apog.us.txt']\n"
     ]
    }
   ],
   "source": [
    "files=glob.glob(\"./Stocks/*.txt\")\n",
    "print(np.shape(files))\n",
    "print(files[:20])"
   ]
  },
  {
   "cell_type": "code",
   "execution_count": 14,
   "metadata": {},
   "outputs": [],
   "source": [
    "# Analizo todas los  x=\"high\" y=\"nombre del archivo\". Ejm"
   ]
  },
  {
   "cell_type": "code",
   "execution_count": 16,
   "metadata": {},
   "outputs": [
    {
     "name": "stdout",
     "output_type": "stream",
     "text": [
      "Index(['Date', 'Open', 'High', 'Low', 'Close', 'Volume', 'OpenInt'], dtype='object')\n",
      "(1249, 7)\n"
     ]
    }
   ],
   "source": [
    "data = pd.read_csv(\"{}\".format(files[0]),delimiter=\",\")\n",
    "labels=data.keys()\n",
    "print(labels)\n",
    "print(np.shape(data))"
   ]
  },
  {
   "cell_type": "code",
   "execution_count": 17,
   "metadata": {},
   "outputs": [
    {
     "name": "stdout",
     "output_type": "stream",
     "text": [
      "(1137, 50)\n",
      "(1137,)\n"
     ]
    }
   ],
   "source": [
    "n_max=1200#number of files taken\n",
    "n_data=50# last days taken\n",
    "#n_max=len(files)\n",
    "X=[]\n",
    "cnt=0\n",
    "for f in files[:n_max]:\n",
    "    if(os.stat(\"{}\".format(f)).st_size != 0):\n",
    "        data = pd.read_csv(\"{}\".format(f),delimiter=\",\")\n",
    "        label=data.keys()\n",
    "        if(len(data[label[0]])>49):\n",
    "            X=np.append(X,data[label[2]][-n_data:])#toma todos los datos con high\n",
    "            cnt+=1\n",
    "#        Y=np.append(Y,data[label[4]][-n_data:])#toma todos los datos con high\n",
    "X=X.reshape(cnt,n_data)\n",
    "Y=np.arange(cnt)\n",
    "#Y=Y.reshape(n_max,n_data)\n",
    "#print(20*3201)\n",
    "print(np.shape(X))\n",
    "print(np.shape(Y))"
   ]
  },
  {
   "cell_type": "code",
   "execution_count": 43,
   "metadata": {},
   "outputs": [],
   "source": [
    "embedding_best=np.zeros((1137,2,4))"
   ]
  },
  {
   "cell_type": "code",
   "execution_count": null,
   "metadata": {
    "scrolled": false
   },
   "outputs": [
    {
     "name": "stderr",
     "output_type": "stream",
     "text": [
      "/home/john/anaconda3/lib/python3.7/site-packages/umap/spectral.py:229: UserWarning: Embedding a total of 202 separate connected components using meta-embedding (experimental)\n",
      "  n_components\n",
      "/home/john/anaconda3/lib/python3.7/site-packages/sklearn/manifold/spectral_embedding_.py:235: UserWarning: Graph is not fully connected, spectral embedding may not work as expected.\n",
      "  warnings.warn(\"Graph is not fully connected, spectral embedding\"\n",
      "/home/john/anaconda3/lib/python3.7/site-packages/umap/spectral.py:229: UserWarning: Embedding a total of 202 separate connected components using meta-embedding (experimental)\n",
      "  n_components\n",
      "/home/john/anaconda3/lib/python3.7/site-packages/sklearn/manifold/spectral_embedding_.py:235: UserWarning: Graph is not fully connected, spectral embedding may not work as expected.\n",
      "  warnings.warn(\"Graph is not fully connected, spectral embedding\"\n",
      "/home/john/anaconda3/lib/python3.7/site-packages/umap/spectral.py:182: UserWarning: WARNING: spectral initialisation failed! The eigenvector solver\n",
      "failed. This is likely due to too small an eigengap. Consider\n",
      "adding some noise or jitter to your data.\n",
      "\n",
      "Falling back to random initialisation!\n",
      "  \"WARNING: spectral initialisation failed! The eigenvector solver\\n\"\n",
      "/home/john/anaconda3/lib/python3.7/site-packages/umap/spectral.py:229: UserWarning: Embedding a total of 202 separate connected components using meta-embedding (experimental)\n",
      "  n_components\n",
      "/home/john/anaconda3/lib/python3.7/site-packages/sklearn/manifold/spectral_embedding_.py:235: UserWarning: Graph is not fully connected, spectral embedding may not work as expected.\n",
      "  warnings.warn(\"Graph is not fully connected, spectral embedding\"\n",
      "/home/john/anaconda3/lib/python3.7/site-packages/umap/spectral.py:182: UserWarning: WARNING: spectral initialisation failed! The eigenvector solver\n",
      "failed. This is likely due to too small an eigengap. Consider\n",
      "adding some noise or jitter to your data.\n",
      "\n",
      "Falling back to random initialisation!\n",
      "  \"WARNING: spectral initialisation failed! The eigenvector solver\\n\"\n",
      "/home/john/anaconda3/lib/python3.7/site-packages/umap/spectral.py:229: UserWarning: Embedding a total of 202 separate connected components using meta-embedding (experimental)\n",
      "  n_components\n",
      "/home/john/anaconda3/lib/python3.7/site-packages/sklearn/manifold/spectral_embedding_.py:235: UserWarning: Graph is not fully connected, spectral embedding may not work as expected.\n",
      "  warnings.warn(\"Graph is not fully connected, spectral embedding\"\n",
      "/home/john/anaconda3/lib/python3.7/site-packages/umap/spectral.py:182: UserWarning: WARNING: spectral initialisation failed! The eigenvector solver\n",
      "failed. This is likely due to too small an eigengap. Consider\n",
      "adding some noise or jitter to your data.\n",
      "\n",
      "Falling back to random initialisation!\n",
      "  \"WARNING: spectral initialisation failed! The eigenvector solver\\n\"\n",
      "/home/john/anaconda3/lib/python3.7/site-packages/umap/spectral.py:229: UserWarning: Embedding a total of 202 separate connected components using meta-embedding (experimental)\n",
      "  n_components\n",
      "/home/john/anaconda3/lib/python3.7/site-packages/sklearn/manifold/spectral_embedding_.py:235: UserWarning: Graph is not fully connected, spectral embedding may not work as expected.\n",
      "  warnings.warn(\"Graph is not fully connected, spectral embedding\"\n",
      "/home/john/anaconda3/lib/python3.7/site-packages/umap/spectral.py:229: UserWarning: Embedding a total of 4 separate connected components using meta-embedding (experimental)\n",
      "  n_components\n",
      "/home/john/anaconda3/lib/python3.7/site-packages/umap/spectral.py:229: UserWarning: Embedding a total of 4 separate connected components using meta-embedding (experimental)\n",
      "  n_components\n",
      "/home/john/anaconda3/lib/python3.7/site-packages/umap/spectral.py:229: UserWarning: Embedding a total of 4 separate connected components using meta-embedding (experimental)\n",
      "  n_components\n",
      "/home/john/anaconda3/lib/python3.7/site-packages/umap/spectral.py:229: UserWarning: Embedding a total of 4 separate connected components using meta-embedding (experimental)\n",
      "  n_components\n",
      "/home/john/anaconda3/lib/python3.7/site-packages/umap/spectral.py:229: UserWarning: Embedding a total of 4 separate connected components using meta-embedding (experimental)\n",
      "  n_components\n"
     ]
    }
   ],
   "source": [
    "cnt_2=0\n",
    "plt.figure(1,figsize = (14,14))\n",
    "for i in range(2,12,2):\n",
    "    for j in np.arange(0,1,0.2):\n",
    "        reducer = umap.UMAP(n_neighbors=i, min_dist=j, metric='euclidean')#, n_components=2)\n",
    "        reducer.fit(X)\n",
    "        embedding = reducer.transform(X)\n",
    "        np.shape(embedding)   \n",
    "        if (2<=i<=8 and j==0.2):\n",
    "            embedding_best[:,:,int(i/2)-1]=embedding\n",
    "        np.shape(embedding)\n",
    "        cnt_2+=1\n",
    "        plt.subplot(5,5,cnt_2)\n",
    "        plt.scatter(embedding[:,0], embedding[:,1], c=Y, cmap='Paired', s=2.0)\n",
    "        #plt.colorbar(boundaries=Y-0.5).set_ticks(np.arange(0,cnt,50))#(Y)\n",
    "        plt.colorbar(boundaries=np.arange(0,cnt,100)-50).set_ticks(np.arange(0,cnt,100))\n",
    "        plt.title(\"neibr={}, d_min={:.1f}\".format(i,j))\n",
    "plt.savefig(\"umap.png\")"
   ]
  },
  {
   "cell_type": "markdown",
   "metadata": {},
   "source": [
    "# Clustering sobre neibr={2,4,6,8}, d_min=0.2"
   ]
  },
  {
   "cell_type": "code",
   "execution_count": null,
   "metadata": {},
   "outputs": [],
   "source": [
    "a=embedding_best\n",
    "for i in range(4):\n",
    "    plt.subplot(4,1,i+1)\n",
    "    plt.scatter(a[:,0,i], a[:,1,i], c=Y, cmap='Paired', s=2.0)\n",
    "        #plt.colorbar(boundaries=Y-0.5).set_ticks(np.arange(0,cnt,50))#(Y)\n",
    "    plt.colorbar(boundaries=np.arange(0,cnt,100)-50).set_ticks(np.arange(0,cnt,100))\n",
    "    plt.title(\"neibr={}\".format(i))"
   ]
  },
  {
   "cell_type": "code",
   "execution_count": 40,
   "metadata": {},
   "outputs": [
    {
     "name": "stdout",
     "output_type": "stream",
     "text": [
      "(9096,)\n",
      "9096\n"
     ]
    }
   ],
   "source": [
    "print(np.shape(embedding_best))\n",
    "print(1137*2*4)"
   ]
  },
  {
   "cell_type": "code",
   "execution_count": null,
   "metadata": {},
   "outputs": [],
   "source": [
    "#n_clusters = 10\n",
    "#Esto se hace para perplexity=10\n",
    "plt.figure(3,figsize = (10,20))\n",
    "for i in range(1):\n",
    "    for n_clusters in range(1,11):\n",
    "        k_means = sklearn.cluster.KMeans(n_clusters=n_clusters)\n",
    "        k_means.fit(embedding_best[:,:,i]) # training\n",
    "        cluster = k_means.predict(embedding_best[:,:,i]) # predice a cual cluster corresponde cada elmento\n",
    "        distance = k_means.transform(embedding_best[:,:,i]) # calcula la distancia de cada elemento al centro de su cluster\n",
    "        plt.subplot(5,2,n_clusters)\n",
    "        plt.scatter(embedding_best[:,0,i], embedding_best[:,1,i], c=cluster, cmap='Paired', s=1.0)\n",
    "        plt.colorbar(boundaries=np.arange(11)-0.5).set_ticks(np.arange(n_clusters))\n",
    "plt.savefig(\"clusters.png\")"
   ]
  },
  {
   "cell_type": "code",
   "execution_count": 27,
   "metadata": {},
   "outputs": [
    {
     "name": "stdout",
     "output_type": "stream",
     "text": [
      "2\n",
      "4\n",
      "6\n",
      "8\n"
     ]
    }
   ],
   "source": [
    "for i in range(2,12,2):\n",
    "    for j in np.arange(0,1.2,0.2):\n",
    "        if (2<=i<=8 and j==0.2):\n",
    "            print(i)"
   ]
  },
  {
   "cell_type": "markdown",
   "metadata": {},
   "source": [
    "# Discusión"
   ]
  },
  {
   "cell_type": "markdown",
   "metadata": {},
   "source": [
    "Al aplicar umap se observa el agrupamiento de los elementos en un conjunto de líneas, en las cuales cada número está relacionado con el nombre de un mercado de la siguiente forma:"
   ]
  },
  {
   "cell_type": "code",
   "execution_count": null,
   "metadata": {},
   "outputs": [],
   "source": [
    "print(\"Mercado\",\" \",\"Número\")\n",
    "for i,f in enumerate(files[:n_max]):\n",
    "    if(os.stat(\"{}\".format(f)).st_size != 0):\n",
    "        print(f[9:-4],\" \",i)\n",
    " "
   ]
  },
  {
   "cell_type": "code",
   "execution_count": null,
   "metadata": {},
   "outputs": [],
   "source": []
  }
 ],
 "metadata": {
  "kernelspec": {
   "display_name": "Python 3",
   "language": "python",
   "name": "python3"
  },
  "language_info": {
   "codemirror_mode": {
    "name": "ipython",
    "version": 3
   },
   "file_extension": ".py",
   "mimetype": "text/x-python",
   "name": "python",
   "nbconvert_exporter": "python",
   "pygments_lexer": "ipython3",
   "version": "3.7.4"
  }
 },
 "nbformat": 4,
 "nbformat_minor": 2
}
