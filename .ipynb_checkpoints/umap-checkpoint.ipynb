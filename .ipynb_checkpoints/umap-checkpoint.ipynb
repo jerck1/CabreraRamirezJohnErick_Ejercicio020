{
 "cells": [
  {
   "cell_type": "code",
   "execution_count": 10,
   "metadata": {},
   "outputs": [],
   "source": [
    "import numpy as np\n",
    "import matplotlib.pyplot as plt\n",
    "import sklearn.manifold\n",
    "import sklearn.datasets\n",
    "import glob\n",
    "import sklearn.cluster\n",
    "import pandas as pd\n",
    "import os\n",
    "import umap"
   ]
  },
  {
   "cell_type": "code",
   "execution_count": 12,
   "metadata": {},
   "outputs": [
    {
     "name": "stdout",
     "output_type": "stream",
     "text": [
      "(7194,)\n",
      "['./Stocks/ardc.us.txt', './Stocks/epix.us.txt', './Stocks/eab.us.txt', './Stocks/batra.us.txt', './Stocks/inbk.us.txt', './Stocks/bgx.us.txt', './Stocks/strt.us.txt', './Stocks/manh.us.txt', './Stocks/atus.us.txt', './Stocks/icbk.us.txt', './Stocks/ftnt.us.txt', './Stocks/nhld.us.txt', './Stocks/dfs.us.txt', './Stocks/scvl.us.txt', './Stocks/ing.us.txt', './Stocks/hope.us.txt', './Stocks/jpt.us.txt', './Stocks/ocfc.us.txt', './Stocks/gsk.us.txt', './Stocks/apog.us.txt']\n"
     ]
    }
   ],
   "source": [
    "files=glob.glob(\"./Stocks/*.txt\")\n",
    "print(np.shape(files))\n",
    "print(files[:20])"
   ]
  },
  {
   "cell_type": "code",
   "execution_count": 14,
   "metadata": {},
   "outputs": [],
   "source": [
    "# Analizo todas los  x=\"high\" y=\"nombre del archivo\". Ejm"
   ]
  },
  {
   "cell_type": "code",
   "execution_count": null,
   "metadata": {},
   "outputs": [],
   "source": [
    "data = pd.read_csv(\"{}\".format(files[0]),delimiter=\",\")\n",
    "labels=data.keys()\n",
    "print(labels)\n",
    "print(np.shape(data))"
   ]
  },
  {
   "cell_type": "code",
   "execution_count": null,
   "metadata": {},
   "outputs": [],
   "source": [
    "n_max=1200#number of files taken\n",
    "n_data=50# last days taken\n",
    "#n_max=len(files)\n",
    "X=[]\n",
    "cnt=0\n",
    "for f in files[:n_max]:\n",
    "    if(os.stat(\"{}\".format(f)).st_size != 0):\n",
    "        data = pd.read_csv(\"{}\".format(f),delimiter=\",\")\n",
    "        label=data.keys()\n",
    "        if(len(data[label[0]])>49):\n",
    "            X=np.append(X,data[label[2]][-n_data:])#toma todos los datos con high\n",
    "            cnt+=1\n",
    "#        Y=np.append(Y,data[label[4]][-n_data:])#toma todos los datos con high\n",
    "X=X.reshape(cnt,n_data)\n",
    "Y=np.arange(cnt)\n",
    "#Y=Y.reshape(n_max,n_data)\n",
    "#print(20*3201)\n",
    "print(np.shape(X))\n",
    "print(np.shape(Y))"
   ]
  },
  {
   "cell_type": "code",
   "execution_count": null,
   "metadata": {
    "scrolled": false
   },
   "outputs": [],
   "source": [
    "plt.figure(1,figsize = (10,10))\n",
    "cnt_2=0\n",
    "for i in range(2,12,2):\n",
    "    for j in np.arange(0,1,0.2):\n",
    "        reducer = umap.UMAP(n_neighbors=i, min_dist=j, metric='euclidean')#, n_components=2)\n",
    "        reducer.fit(X)\n",
    "        embedding = reducer.transform(X)\n",
    "        np.shape(embedding)   \n",
    "#     tsne = sklearn.manifold.TSNE(perplexity=i)\n",
    "#     tsne.fit(X)\n",
    "#     embedding = tsne.embedding_\n",
    "        #if (i==10):\n",
    "         #   embedding_best=embedding\n",
    "        #np.shape(embedding)\n",
    "        cnt_2+=1\n",
    "        plt.subplot(5,5,cnt_2)\n",
    "        plt.scatter(embedding[:,0], embedding[:,1], c=Y, cmap='Paired', s=2.0)\n",
    "        #plt.colorbar(boundaries=Y-0.5).set_ticks(np.arange(0,cnt,50))#(Y)\n",
    "        plt.colorbar(boundaries=np.arange(0,cnt,100)-50).set_ticks(np.arange(0,cnt,100))\n",
    "        plt.title(\"n_neighbors={}, min_dist={}\".format(i,j))\n",
    "plt.savefig(\"umap.png\")"
   ]
  },
  {
   "cell_type": "code",
   "execution_count": null,
   "metadata": {},
   "outputs": [],
   "source": [
    "plt.figure(figsize=(10,12))\n",
    "for i in range(n_clusters):\n",
    "    ii = np.argsort(distance[:,i]) # es el orden de los objetos de menor a mayor a la distancia de su cluster\n",
    "    n_seq = 10\n",
    "    for l, ind in enumerate(ii[:n_seq]):\n",
    "        plt.subplot(n_clusters,n_seq,i*n_seq +l +1)\n",
    "        plt.imshow(imagenes[ind].reshape(8,8))\n",
    "        plt.title(\"D = {:.2f}\".format(distance[ind,i]))\n",
    "        plt.axis('off')"
   ]
  },
  {
   "cell_type": "code",
   "execution_count": null,
   "metadata": {},
   "outputs": [],
   "source": [
    "#n_clusters = 10\n",
    "#Esto se hace para perplexity=10\n",
    "plt.figure(3,figsize = (10,20))\n",
    "for n_clusters in range(1,11):\n",
    "    k_means = sklearn.cluster.KMeans(n_clusters=n_clusters)\n",
    "    k_means.fit(embedding_best) # training\n",
    "    cluster = k_means.predict(embedding_best) # predice a cual cluster corresponde cada elmento\n",
    "    distance = k_means.transform(embedding_best) # calcula la distancia de cada elemento al centro de su cluster\n",
    "    plt.subplot(5,2,n_clusters)\n",
    "    plt.scatter(embedding_best[:,0], embedding_best[:,1], c=cluster, cmap='Paired', s=1.0)\n",
    "    plt.colorbar(boundaries=np.arange(11)-0.5).set_ticks(np.arange(n_clusters))\n",
    "plt.savefig(\"clusters.png\")"
   ]
  },
  {
   "cell_type": "code",
   "execution_count": null,
   "metadata": {},
   "outputs": [],
   "source": [
    "c=0\n",
    "for i in range(2,12,1):\n",
    "#    for j in np.arange(0,1,0.1):\n",
    "    c+=1\n",
    "    print(c)"
   ]
  },
  {
   "cell_type": "code",
   "execution_count": null,
   "metadata": {},
   "outputs": [],
   "source": [
    "np.arange(0,1,0.1)"
   ]
  },
  {
   "cell_type": "code",
   "execution_count": null,
   "metadata": {},
   "outputs": [],
   "source": []
  }
 ],
 "metadata": {
  "kernelspec": {
   "display_name": "Python 3",
   "language": "python",
   "name": "python3"
  },
  "language_info": {
   "codemirror_mode": {
    "name": "ipython",
    "version": 3
   },
   "file_extension": ".py",
   "mimetype": "text/x-python",
   "name": "python",
   "nbconvert_exporter": "python",
   "pygments_lexer": "ipython3",
   "version": "3.7.4"
  }
 },
 "nbformat": 4,
 "nbformat_minor": 2
}
